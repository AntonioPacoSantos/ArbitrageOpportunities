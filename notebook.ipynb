{
 "cells": [
  {
   "cell_type": "code",
   "execution_count": 63,
   "metadata": {},
   "outputs": [],
   "source": [
    "import json \n",
    "import pyRofex as pr  \n",
    "import csv \n",
    "import yfinance as yf\n",
    "import math "
   ]
  },
  {
   "cell_type": "code",
   "execution_count": 64,
   "metadata": {},
   "outputs": [],
   "source": [
    "\n",
    "tickers = yf.Tickers(\"ggal pamp.ba ypf\")"
   ]
  },
  {
   "cell_type": "code",
   "execution_count": 65,
   "metadata": {},
   "outputs": [],
   "source": [
    "# Símbolo del bono del Tesoro a 10 años\n",
    "\n",
    "# Obtener datos de Yahoo Finance\n",
    "treasury_yield = yf.Ticker(\"^TNX\")\n",
    " \n",
    "# Obtener datos históricos recientes\n",
    "history = treasury_yield.history(period=\"1mo\")\n",
    "# Obtener la tasa de interés más reciente\n",
    "latest_rate = (history['Close'][-1])/100\n"
   ]
  },
  {
   "cell_type": "code",
   "execution_count": 66,
   "metadata": {},
   "outputs": [],
   "source": [
    "\n",
    "spot_ggal = (tickers.tickers['GGAL'].info)['currentPrice']\n",
    "spot_pamp = (tickers.tickers['PAMP.BA'].info)['currentPrice']\n",
    "spot_ypfd = (tickers.tickers['YPF'].info)['currentPrice']\n"
   ]
  },
  {
   "cell_type": "code",
   "execution_count": 67,
   "metadata": {},
   "outputs": [],
   "source": [
    "\n",
    "# Set the the parameter for the REMARKET environment\n",
    "pr.initialize(user=\"antoniopacosantos11540\",\n",
    "                   password=\"dggybB0#\",\n",
    "                   account=\"REM11540\",\n",
    "                   environment=pr.Environment.REMARKET)"
   ]
  },
  {
   "cell_type": "code",
   "execution_count": 84,
   "metadata": {},
   "outputs": [],
   "source": [
    "\n",
    "instruments = [\n",
    "    'GGAL/OCT24', \n",
    "    'GGAL/AGO24',\n",
    "    'GGAL/AGO24/OCT24', \n",
    "    'PAMP/OCT24',\n",
    "    'PAMP/AGO24',\n",
    "    'PAMP/AGO24/OCT24',\n",
    "    'YPFD/OCT24',\n",
    "    'YPFD/AGO24',\n",
    "    'YPFD/AGO24/OCT24',\n",
    "    'DLR/AGO24'\n",
    "]\n",
    "\n",
    "spot_for_future = {\n",
    "    'GGAL/OCT24': spot_ggal,\n",
    "    'GGAL/AGO24': spot_ggal,\n",
    "    'GGAL/AGO24/OCT24': spot_ggal,\n",
    "    'PAMP/OCT24': spot_pamp,\n",
    "    'PAMP/AGO24': spot_pamp,\n",
    "    'PAMP/AGO24/OCT24': spot_pamp,\n",
    "    'YPFD/OCT24': spot_ypfd,\n",
    "    'YPFD/AGO24': spot_ypfd,\n",
    "    'YPFD/AGO24/OCT24': spot_ypfd\n",
    "}"
   ]
  },
  {
   "cell_type": "code",
   "execution_count": 69,
   "metadata": {},
   "outputs": [],
   "source": [
    "from datetime import date"
   ]
  },
  {
   "cell_type": "code",
   "execution_count": 70,
   "metadata": {},
   "outputs": [],
   "source": [
    "current_date = date.today()"
   ]
  },
  {
   "cell_type": "code",
   "execution_count": 71,
   "metadata": {},
   "outputs": [],
   "source": [
    "def parse_maturity_date_and_compute_tValue(maturity_date): \n",
    "    maturity_parsed_date = date(int(maturity_date[0:4]), int(maturity_date[4:6]), int(maturity_date[6:8]))\n",
    "    tValue = (maturity_parsed_date - current_date).days / 365\n",
    "    return tValue    "
   ]
  },
  {
   "cell_type": "code",
   "execution_count": 72,
   "metadata": {},
   "outputs": [],
   "source": [
    "def compute_lending_rate(price,spot, tValue):\n",
    "    return math.log(price/spot) / tValue\n",
    "\n",
    "def compute_borrowing_rate(price,spot, tValue):\n",
    "    return math.log(price/spot) / tValue"
   ]
  },
  {
   "cell_type": "code",
   "execution_count": 73,
   "metadata": {},
   "outputs": [],
   "source": [
    "entries = [\n",
    "    pr.MarketDataEntry.BIDS,\n",
    "    pr.MarketDataEntry.OFFERS,\n",
    "]\n",
    "\n",
    "lending_rates = {}\n",
    "borrowing_rates = {}\n"
   ]
  },
  {
   "cell_type": "code",
   "execution_count": 74,
   "metadata": {},
   "outputs": [],
   "source": [
    "###TESTING \n",
    "\n",
    "instruments = ['BTC/JUL24']\n",
    "spot_for_future = {'BTC/JUL24': spot_ggal}\n",
    "\n",
    "#all entries\n",
    "entries = [\n",
    "    pr.MarketDataEntry.BIDS,\n",
    "    pr.MarketDataEntry.OFFERS,\n",
    "    pr.MarketDataEntry.LAST,\n",
    "    pr.MarketDataEntry.CLOSING_PRICE,\n",
    "    pr.MarketDataEntry.OPENING_PRICE,\n",
    "    pr.MarketDataEntry.HIGH_PRICE,\n",
    "    pr.MarketDataEntry.LOW_PRICE,\n",
    "    pr.MarketDataEntry.SETTLEMENT_PRICE,\n",
    "    pr.MarketDataEntry.NOMINAL_VOLUME,\n",
    "    pr.MarketDataEntry.TRADE_EFFECTIVE_VOLUME,\n",
    "    pr.MarketDataEntry.TRADE_VOLUME,\n",
    "    pr.MarketDataEntry.OPEN_INTEREST\n",
    "]"
   ]
  },
  {
   "cell_type": "code",
   "execution_count": 88,
   "metadata": {},
   "outputs": [
    {
     "data": {
      "text/plain": [
       "{'status': 'OK',\n",
       " 'marketData': {'OI': None,\n",
       "  'CL': None,\n",
       "  'EV': 0.0,\n",
       "  'HI': None,\n",
       "  'BI': [],\n",
       "  'LA': None,\n",
       "  'NV': 0,\n",
       "  'SE': {'price': 4700.0, 'size': None, 'date': 1720137600000},\n",
       "  'LO': None,\n",
       "  'OF': [],\n",
       "  'OP': None,\n",
       "  'TV': 0},\n",
       " 'depth': 1,\n",
       " 'aggregated': True}"
      ]
     },
     "execution_count": 88,
     "metadata": {},
     "output_type": "execute_result"
    }
   ],
   "source": [
    "pr.get_market_data(ticker=instruments[0],\n",
    "                entries=entries\n",
    "                )"
   ]
  },
  {
   "cell_type": "code",
   "execution_count": 89,
   "metadata": {},
   "outputs": [],
   "source": [
    "# 2-Defines the handlers that will process the messages and exceptions.\n",
    "def market_data_handler(message):\n",
    "    print(\"Market Data Message Received: {0}\".format(message))\n",
    "    #update lending rates if the bid is not None \n",
    "    bid = message['marketData']['BI']\n",
    "    offer = message['marketData']['OF']            \n",
    "    if bid is not None and bid != []:\n",
    "        symbol = message['instrumentId']['symbol']\n",
    "        bid_price = bid[0]['price']\n",
    "        spot = spot_for_future[symbol]\n",
    "        tValue = parse_maturity_date_and_compute_tValue(pr.get_instrument_details(symbol)['instrument']['maturityDate'])\n",
    "        lending_rates[symbol] = compute_borrowing_rate(spot, bid_price, tValue)\n",
    "        if compute_lending_rate(spot, bid_price, tValue) < latest_rate:\n",
    "            print(f\"La tasa de interés implícita colocadora de {symbol} es menor a la tasa de interés del bono del Tesoro a 10 años más reciente. Oportunidad de arbitraje\")\n",
    "    #update borrowing rates if the offer is not None\n",
    "    if offer is not None and offer != []: \n",
    "        symbol = message['instrumentId']['symbol']\n",
    "        offer_price = offer[0]['price']\n",
    "        spot = spot_for_future[symbol]\n",
    "        tValue = parse_maturity_date_and_compute_tValue(pr.get_instrument_details(symbol)['instrument']['maturityDate'])\n",
    "        borrowing_rates[symbol] = compute_lending_rate(spot, offer_price, tValue)\n",
    "        if compute_lending_rate(spot, offer_price, tValue) > latest_rate:\n",
    "            print(f\"La tasa de interés implícita tomadora de {symbol} es mayor a la tasa de interés del bono del Tesoro a 10 años más reciente. Oportunidad de arbitraje\")\n",
    "        \n",
    "def error_handler(message):\n",
    "    print(\"Error Message Received: {0}\".format(message))\n",
    "\n",
    "\n",
    "def exception_handler(e):\n",
    "    print(\"Exception Occurred: {0}\".format(e))"
   ]
  },
  {
   "cell_type": "code",
   "execution_count": 77,
   "metadata": {},
   "outputs": [],
   "source": [
    "\n",
    "pr.init_websocket_connection(market_data_handler=market_data_handler,\n",
    "                                  error_handler=error_handler,\n",
    "                                  exception_handler=exception_handler)\n",
    "pr.market_data_subscription(tickers=instruments,entries=entries)\n",
    "\n",
    "pr.order_report_subscription()\n",
    "#time.sleep(5)\n",
    "#pr.close_websocket_connection()\n"
   ]
  },
  {
   "cell_type": "code",
   "execution_count": 78,
   "metadata": {},
   "outputs": [
    {
     "name": "stdout",
     "output_type": "stream",
     "text": [
      "{}\n"
     ]
    },
    {
     "name": "stdout",
     "output_type": "stream",
     "text": [
      "Market Data Message Received: {'type': 'Md', 'timestamp': 1720280138519, 'instrumentId': {'marketId': 'ROFX', 'symbol': 'BTC/JUL24'}, 'marketData': {'OI': None, 'CL': None, 'EV': 0.0, 'HI': None, 'BI': [], 'LA': None, 'NV': 0, 'SE': {'price': 84860000.0, 'date': 1720137600000}, 'LO': None, 'OF': [], 'OP': None, 'TV': 0}}\n"
     ]
    }
   ],
   "source": [
    "print(borrowing_rates)"
   ]
  }
 ],
 "metadata": {
  "kernelspec": {
   "display_name": "Python 3",
   "language": "python",
   "name": "python3"
  },
  "language_info": {
   "codemirror_mode": {
    "name": "ipython",
    "version": 3
   },
   "file_extension": ".py",
   "mimetype": "text/x-python",
   "name": "python",
   "nbconvert_exporter": "python",
   "pygments_lexer": "ipython3",
   "version": "3.10.12"
  }
 },
 "nbformat": 4,
 "nbformat_minor": 2
}
